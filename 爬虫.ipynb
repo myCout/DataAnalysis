{
 "cells": [
  {
   "cell_type": "code",
   "execution_count": 5,
   "metadata": {},
   "outputs": [],
   "source": [
    "import requests\n",
    "from lxml import etree\n",
    "# r = requests.get(\"https://www.baidu.com/\")\n",
    "# r"
   ]
  },
  {
   "cell_type": "markdown",
   "metadata": {},
   "source": [
    "### 定制请求头"
   ]
  },
  {
   "cell_type": "code",
   "execution_count": 38,
   "metadata": {},
   "outputs": [
    {
     "name": "stdout",
     "output_type": "stream",
     "text": [
      "[]\n"
     ]
    }
   ],
   "source": [
    "#翻页请求 去前十页\n",
    "for page in range(10):\n",
    "#     url = 'https://www.zhipin.com/c101110100/?query=python&page=2&ka=page-2'\n",
    "    url = 'https://www.zhipin.com/c101110100/?query=python&page={}&ka=page-{}'.format(page,page)\n",
    "    #3.6 版本以上可以使用如下\n",
    "    url = f'https://www.zhipin.com/c101110100/?query=python&page={page}&ka=page-{page}'#等价于foramt\n",
    "    # url = 'http://www.lzu.edu.cn'\n",
    "    headers = {'user-agent':'Mozilla/5.0 (iPhone; CPU iPhone OS 11_0 like Mac OS X) AppleWebKit/604.1.38 (KHTML, like Gecko) Version/11.0 Mobile/15A372 Safari/604.1'}\n",
    "    r = requests.get(url,headers = headers)\n",
    "    #网页初始化\n",
    "    html = etree.HTML(r.text)\n",
    "    #写Xpath 其中 text()选择文本\n",
    "    # html\n",
    "    names = html.xpath('//h3[@class=\"name\"]//text()')\n",
    "    print(names)\n",
    "\n",
    "\n",
    "\n",
    "\n",
    "\n",
    "# for i in names:\n",
    "#     print(i)"
   ]
  },
  {
   "cell_type": "markdown",
   "metadata": {},
   "source": [
    "### 文件读写三部曲"
   ]
  },
  {
   "cell_type": "code",
   "execution_count": 39,
   "metadata": {},
   "outputs": [],
   "source": [
    "file = open('datas.text','a',encoding='utf-8')#'a'是追加的意思\n",
    "\n",
    "for text in names:\n",
    "    \n",
    "    file.write(text + \"\\n\")\n",
    "\n",
    "file.close()"
   ]
  },
  {
   "cell_type": "markdown",
   "metadata": {},
   "source": [
    "### 两步曲"
   ]
  },
  {
   "cell_type": "code",
   "execution_count": null,
   "metadata": {},
   "outputs": [],
   "source": [
    "with open('datas.text','a',encoding='utf-8'):\n",
    "    for text in names:\n",
    "    \n",
    "    file.write(text + \"\\n\")\n",
    " "
   ]
  },
  {
   "cell_type": "code",
   "execution_count": null,
   "metadata": {},
   "outputs": [],
   "source": []
  },
  {
   "cell_type": "code",
   "execution_count": null,
   "metadata": {},
   "outputs": [],
   "source": []
  },
  {
   "cell_type": "code",
   "execution_count": null,
   "metadata": {},
   "outputs": [],
   "source": []
  },
  {
   "cell_type": "code",
   "execution_count": null,
   "metadata": {},
   "outputs": [],
   "source": []
  },
  {
   "cell_type": "code",
   "execution_count": null,
   "metadata": {},
   "outputs": [],
   "source": []
  },
  {
   "cell_type": "code",
   "execution_count": null,
   "metadata": {},
   "outputs": [],
   "source": []
  },
  {
   "cell_type": "code",
   "execution_count": null,
   "metadata": {},
   "outputs": [],
   "source": []
  },
  {
   "cell_type": "code",
   "execution_count": null,
   "metadata": {},
   "outputs": [],
   "source": []
  }
 ],
 "metadata": {
  "kernelspec": {
   "display_name": "Python 3",
   "language": "python",
   "name": "python3"
  },
  "language_info": {
   "codemirror_mode": {
    "name": "ipython",
    "version": 3
   },
   "file_extension": ".py",
   "mimetype": "text/x-python",
   "name": "python",
   "nbconvert_exporter": "python",
   "pygments_lexer": "ipython3",
   "version": "3.6.4"
  }
 },
 "nbformat": 4,
 "nbformat_minor": 2
}
